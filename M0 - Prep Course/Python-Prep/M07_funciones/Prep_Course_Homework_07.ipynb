{
 "cells": [
  {
   "attachments": {},
   "cell_type": "markdown",
   "metadata": {},
   "source": [
    "## Funciones"
   ]
  },
  {
   "attachments": {},
   "cell_type": "markdown",
   "metadata": {},
   "source": [
    "1) Crear una función que reciba un número como parámetro y devuelva True si es primo y False si no lo es"
   ]
  },
  {
   "cell_type": "code",
   "execution_count": 22,
   "metadata": {},
   "outputs": [],
   "source": [
    "def primo(numero):\n",
    "    es_primo = True\n",
    "    if numero <= 1:\n",
    "        print(\"Los numeros primos son mayores que 2\")\n",
    "        return None\n",
    "    \n",
    "    if numero == 2:\n",
    "        return True\n",
    "    \n",
    "    for i in range(2, numero):\n",
    "        if numero % i == 0:\n",
    "            es_primo = False\n",
    "            break\n",
    "    return es_primo\n",
    "\n"
   ]
  },
  {
   "cell_type": "code",
   "execution_count": 23,
   "metadata": {},
   "outputs": [
    {
     "name": "stdout",
     "output_type": "stream",
     "text": [
      "El numero ingresado es 5\n"
     ]
    },
    {
     "data": {
      "text/plain": [
       "True"
      ]
     },
     "execution_count": 23,
     "metadata": {},
     "output_type": "execute_result"
    }
   ],
   "source": [
    "numero = int(input(\"Ingresa un numero\"))\n",
    "print(\"El numero ingresado es\", numero)\n",
    "primo(numero)"
   ]
  },
  {
   "attachments": {},
   "cell_type": "markdown",
   "metadata": {},
   "source": [
    "2) Utilizando la función del punto 1, realizar otra función que reciba de parámetro una lista de números y devuelva sólo aquellos que son primos en otra lista"
   ]
  },
  {
   "cell_type": "code",
   "execution_count": 25,
   "metadata": {},
   "outputs": [],
   "source": [
    "def extrae_primos(lista):\n",
    "    lista_primos = []\n",
    "    if len(lista) > 0:\n",
    "        for elemento in lista:\n",
    "            if primo(elemento):\n",
    "                lista_primos.append(elemento)\n",
    "    return lista_primos"
   ]
  },
  {
   "cell_type": "code",
   "execution_count": 26,
   "metadata": {},
   "outputs": [
    {
     "name": "stdout",
     "output_type": "stream",
     "text": [
      "Los numeros primos son mayores que 2\n"
     ]
    },
    {
     "data": {
      "text/plain": [
       "[2, 3, 5, 7, 11, 13, 17, 19]"
      ]
     },
     "execution_count": 26,
     "metadata": {},
     "output_type": "execute_result"
    }
   ],
   "source": [
    "lista_completa = [1,2,3,4,5,6,7,8,9,10,11,12,13,14,15,16,17,18,19,20]\n",
    "primos = extrae_primos(lista_completa)\n",
    "primos"
   ]
  },
  {
   "attachments": {},
   "cell_type": "markdown",
   "metadata": {},
   "source": [
    "3) Crear una función que al recibir una lista de números, devuelva el que más se repite y cuántas veces lo hace. Si hay más de un \"más repetido\", que devuelva cualquiera"
   ]
  },
  {
   "cell_type": "code",
   "execution_count": 34,
   "metadata": {},
   "outputs": [],
   "source": [
    "def valor_modal(lista):\n",
    "    lista_unicos = []\n",
    "    lista_repeticiones = []\n",
    "    if len(lista) == 0:\n",
    "        return None\n",
    "    for elemento in lista:\n",
    "        if elemento in lista_unicos:\n",
    "            i = lista_unicos.index(elemento)\n",
    "            lista_repeticiones[i] += 1\n",
    "        else:\n",
    "            lista_unicos.append(elemento)\n",
    "            lista_repeticiones.append(1)\n",
    "    moda = lista_unicos[0]\n",
    "    maximo = lista_repeticiones[0]\n",
    "    for i, elemento in enumerate(lista_unicos):\n",
    "        if lista_repeticiones[i] > maximo:\n",
    "            moda = lista_unicos[i]\n",
    "            maximo = lista_repeticiones[i]\n",
    "    return moda, maximo"
   ]
  },
  {
   "cell_type": "code",
   "execution_count": 35,
   "metadata": {},
   "outputs": [
    {
     "data": {
      "text/plain": [
       "(5, 11)"
      ]
     },
     "execution_count": 35,
     "metadata": {},
     "output_type": "execute_result"
    }
   ],
   "source": [
    "lis = [1,1,5,6,8,10,22,5,6,4,11,9,5,5,5,5,5,5,5,5,5]\n",
    "valor_modal(lis)"
   ]
  },
  {
   "attachments": {},
   "cell_type": "markdown",
   "metadata": {},
   "source": [
    "4) A la función del punto 3, agregar un parámetro más, que permita elegir si se requiere el menor o el mayor de los mas repetidos."
   ]
  },
  {
   "cell_type": "code",
   "execution_count": 36,
   "metadata": {},
   "outputs": [],
   "source": [
    "def valor_modal(lista, menor=True):\n",
    "\n",
    "    lista_unicos = []  \n",
    "    lista_repeticiones = []  \n",
    "    if len(lista) == 0:  \n",
    "        return None  \n",
    "    if menor:  \n",
    "        lista.sort()  \n",
    "    else:\n",
    "        lista.sort(reverse=True)  \n",
    "    for elemento in lista:  \n",
    "        if elemento in lista_unicos:  \n",
    "            i = lista_unicos.index(elemento)  \n",
    "            lista_repeticiones[i] += 1  \n",
    "        else:\n",
    "            lista_unicos.append(elemento)  \n",
    "            lista_repeticiones.append(1)  \n",
    "    moda = lista_unicos[0]  \n",
    "    maximo = lista_repeticiones[0]  \n",
    "    for i, elemento in enumerate(lista_unicos):  \n",
    "        if lista_repeticiones[i] > maximo:  \n",
    "            moda = lista_unicos[i]  \n",
    "            maximo = lista_repeticiones[i]  \n",
    "    return moda, maximo  "
   ]
  },
  {
   "cell_type": "code",
   "execution_count": 39,
   "metadata": {},
   "outputs": [
    {
     "name": "stdout",
     "output_type": "stream",
     "text": [
      "El valor modal es 5 y se repite 7 veces.\n"
     ]
    }
   ],
   "source": [
    "lis = [10,1,5,6,8,10,101,10,10,22,5,6,4,11,10,9,5,5,5,5,5]\n",
    "moda, repite = valor_modal(lis, True)\n",
    "print('El valor modal es', moda, 'y se repite', repite, 'veces.')"
   ]
  },
  {
   "attachments": {},
   "cell_type": "markdown",
   "metadata": {},
   "source": [
    "5) Crear una función que convierta entre grados Celsius, Farenheit y Kelvin<br>\n",
    "Fórmula 1\t: (°C × 9/5) + 32 = °F<br>\n",
    "Fórmula 2\t: °C + 273.15 = °K<br>\n",
    "Debe recibir 3 parámetros: el valor, la medida de orígen y la medida de destino\n"
   ]
  },
  {
   "cell_type": "code",
   "execution_count": 2,
   "metadata": {},
   "outputs": [],
   "source": [
    "def convertir(valor, origen, destino):\n",
    "    # Convertir de Celsius a Fahrenheit\n",
    "    if origen == 'C' and destino == 'F':\n",
    "        return (valor * 9/5) + 32\n",
    "    # Convertir de Celsius a Kelvin\n",
    "    elif origen == 'C' and destino == 'K':\n",
    "        return valor + 273.15\n",
    "    # Convertir de Fahrenheit a Celsius\n",
    "    elif origen == 'F' and destino == 'C':\n",
    "        return (valor - 32) * 5/9\n",
    "    # Convertir de Fahrenheit a Kelvin\n",
    "    elif origen == 'F' and destino == 'K':\n",
    "        return (valor - 32) * 5/9 + 273.15\n",
    "    # Convertir de Kelvin a Celsius\n",
    "    elif origen == 'K' and destino == 'C':\n",
    "        return valor - 273.15\n",
    "    # Convertir de Kelvin a Fahrenheit\n",
    "    elif origen == 'K' and destino == 'F':\n",
    "        return (valor - 273.15) * 9/5 + 32\n",
    "    # Si las medidas de origen y destino son iguales, devolver el mismo valor\n",
    "    elif origen == destino:\n",
    "        return valor\n",
    "    # Si no se reconocen las medidas de temperatura, devolver None\n",
    "    else:\n",
    "        return None"
   ]
  },
  {
   "cell_type": "code",
   "execution_count": 3,
   "metadata": {},
   "outputs": [
    {
     "name": "stdout",
     "output_type": "stream",
     "text": [
      "Vamos a convertir 34 de C a K\n"
     ]
    },
    {
     "data": {
      "text/plain": [
       "307.15"
      ]
     },
     "execution_count": 3,
     "metadata": {},
     "output_type": "execute_result"
    }
   ],
   "source": [
    "valor = int(input(\"Ingresa la temperatura que desea convertir\"))\n",
    "origen = (input(\"Ingrese la medida de origen [C, K o F]\"))\n",
    "destino = input(\"Ingrese la medida de destino [C, K o F]\")\n",
    "print(\"Vamos a convertir\", valor, \"de\", origen.upper(), \"a\", destino.upper())\n",
    "convertir(valor, origen.upper(), destino.upper())\n",
    "\n"
   ]
  },
  {
   "attachments": {},
   "cell_type": "markdown",
   "metadata": {},
   "source": [
    "6) Iterando una lista con los tres valores posibles de temperatura que recibe la función del punto 5, hacer un print para cada combinación de los mismos:"
   ]
  },
  {
   "cell_type": "code",
   "execution_count": 98,
   "metadata": {},
   "outputs": [
    {
     "name": "stdout",
     "output_type": "stream",
     "text": [
      "El 32 en C es 32 C\n",
      "El 32 en C es 89.6 F\n",
      "El 32 en C es 305.15 K\n",
      "El 32 en F es 0.0 C\n",
      "El 32 en F es 32 F\n",
      "El 32 en F es 273.15 K\n",
      "El 32 en K es -241.14999999999998 C\n",
      "El 32 en K es -402.07 F\n",
      "El 32 en K es 32 K\n"
     ]
    }
   ],
   "source": [
    "unidades = [\"C\", \"F\", \"K\"]\n",
    "valor = int(input(\"Ingresa la temperatura que desea convertir\"))\n",
    "for i in range(0, 3):  \n",
    "    for j in range(0, 3):  \n",
    "        print('El', valor, \"en\", unidades[i], 'es', convertir(valor, unidades[i], unidades[j]), unidades[j])\n",
    "\n",
    "\n"
   ]
  },
  {
   "attachments": {},
   "cell_type": "markdown",
   "metadata": {},
   "source": [
    "7) Armar una función que devuelva el factorial de un número. Tener en cuenta que el usuario puede equivocarse y enviar de parámetro un número no entero o negativo"
   ]
  },
  {
   "cell_type": "code",
   "execution_count": 103,
   "metadata": {},
   "outputs": [],
   "source": [
    "def factorial(numero):\n",
    "    if not isinstance(numero, int) or numero < 0:\n",
    "        return \"El numero ingresado es negativo o no entero\"\n",
    "    factorial = 1\n",
    "    for i in range(2, numero + 1):\n",
    "        factorial *= i\n",
    "    return factorial\n"
   ]
  },
  {
   "cell_type": "code",
   "execution_count": 106,
   "metadata": {},
   "outputs": [
    {
     "data": {
      "text/plain": [
       "720"
      ]
     },
     "execution_count": 106,
     "metadata": {},
     "output_type": "execute_result"
    }
   ],
   "source": [
    "numero = int(input(\"Ingresa un numero\"))\n",
    "factorial(numero)"
   ]
  }
 ],
 "metadata": {
  "interpreter": {
   "hash": "c85384e4cb51c8b72350f3a8712cc8351fdc3955e32a27f9b60c6242ab125f01"
  },
  "kernelspec": {
   "display_name": "Python 3 (ipykernel)",
   "language": "python",
   "name": "python3"
  },
  "language_info": {
   "codemirror_mode": {
    "name": "ipython",
    "version": 3
   },
   "file_extension": ".py",
   "mimetype": "text/x-python",
   "name": "python",
   "nbconvert_exporter": "python",
   "pygments_lexer": "ipython3",
   "version": "3.11.3"
  }
 },
 "nbformat": 4,
 "nbformat_minor": 4
}
